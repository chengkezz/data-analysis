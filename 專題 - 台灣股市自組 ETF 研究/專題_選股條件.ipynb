{
  "nbformat": 4,
  "nbformat_minor": 0,
  "metadata": {
    "colab": {
      "provenance": []
    },
    "kernelspec": {
      "name": "python3",
      "display_name": "Python 3"
    },
    "language_info": {
      "name": "python"
    }
  },
  "cells": [
    {
      "cell_type": "code",
      "source": [
        "import pandas as pd\n",
        "df = pd.read_excel('20241211182337DataExport.xlsx')\n",
        "codes = df['代號'].unique().tolist()\n",
        "len(codes)"
      ],
      "metadata": {
        "id": "6S2mMa8htdtF",
        "colab": {
          "base_uri": "https://localhost:8080/"
        },
        "outputId": "56ff5788-8df5-4b26-990b-2f7f376b7b81"
      },
      "execution_count": null,
      "outputs": [
        {
          "output_type": "execute_result",
          "data": {
            "text/plain": [
              "1020"
            ]
          },
          "metadata": {},
          "execution_count": 1
        }
      ]
    },
    {
      "cell_type": "code",
      "source": [
        "df['年/月'] = pd.to_datetime(df['年/月'], format='%Y/%m')\n",
        "\n",
        "# 找出每個公司最早的上市年份\n",
        "company_first_year = df.groupby(['代號', '名稱'])['年/月'].min()\n",
        "\n",
        "# 計算公司存在的年數 (相對於當前年)\n",
        "current_year = pd.Timestamp.now().year\n",
        "company_first_year_in_years = current_year - company_first_year.dt.year\n",
        "\n",
        "# 找出上市超過 7 年的公司\n",
        "listed_more_than_7_years = company_first_year_in_years[company_first_year_in_years > 7]\n",
        "\n",
        "# 將篩選的公司資料與原資料合併\n",
        "df_上市時間 = df[df['代號'].isin(listed_more_than_7_years.index.get_level_values('代號'))]\n",
        "\n",
        "# 查看結果\n",
        "上市時間_codes = df_上市時間['代號'].unique().tolist()\n",
        "\n",
        "len(上市時間_codes)"
      ],
      "metadata": {
        "id": "m269tovjxpuN",
        "colab": {
          "base_uri": "https://localhost:8080/"
        },
        "outputId": "01828877-604d-44ea-f42c-4fdd4bcb04b4"
      },
      "execution_count": null,
      "outputs": [
        {
          "output_type": "execute_result",
          "data": {
            "text/plain": [
              "974"
            ]
          },
          "metadata": {},
          "execution_count": 2
        }
      ]
    },
    {
      "cell_type": "code",
      "execution_count": null,
      "metadata": {
        "id": "vM7GKA_2of9b",
        "colab": {
          "base_uri": "https://localhost:8080/"
        },
        "outputId": "0d3e190e-3fb2-4b66-9733-0b3c3dd9a854"
      },
      "outputs": [
        {
          "output_type": "execute_result",
          "data": {
            "text/plain": [
              "644"
            ]
          },
          "metadata": {},
          "execution_count": 3
        }
      ],
      "source": [
        "# 確保 '年/月' 是 datetime 格式\n",
        "df['年/月'] = pd.to_datetime(df['年/月'], format='%Y/%m')\n",
        "\n",
        "# 獲取每股盈餘列\n",
        "eps_columns = '每股盈餘'\n",
        "\n",
        "# 按公司代號分組\n",
        "grouped = df.groupby('代號')\n",
        "\n",
        "# 定義條件：篩選最近10年，並計算9年盈餘 > 0\n",
        "def filter_eps(group):\n",
        "    # 按年排序，取最近10年的資料\n",
        "    recent_10_years = group.sort_values('年/月', ascending=False).head(10)\n",
        "    # 計算最近10年內，每股盈餘大於0的年份數量\n",
        "    eps_positive_count = (recent_10_years[eps_columns] > 0).sum()\n",
        "    # 返回滿足9年盈餘 > 0的公司\n",
        "    return eps_positive_count >= 9\n",
        "\n",
        "# 應用過濾條件\n",
        "df_eps = grouped.filter(filter_eps)\n",
        "\n",
        "EPS_codes = df_eps['代號'].unique().tolist()\n",
        "\n",
        "len(EPS_codes)"
      ]
    },
    {
      "cell_type": "code",
      "source": [
        "df_股本 = df[df['  股本'] > 5000000]\n",
        "\n",
        "股本_codes = df_股本['代號'].unique().tolist()\n",
        "\n",
        "len(股本_codes)"
      ],
      "metadata": {
        "id": "6xqH5S-xidVM",
        "colab": {
          "base_uri": "https://localhost:8080/"
        },
        "outputId": "92a6540a-93e5-40cb-abb4-dd3733018723"
      },
      "execution_count": null,
      "outputs": [
        {
          "output_type": "execute_result",
          "data": {
            "text/plain": [
              "245"
            ]
          },
          "metadata": {},
          "execution_count": 4
        }
      ]
    },
    {
      "cell_type": "code",
      "source": [
        "# 計算本業收入比率，扣掉業外收入及支出\n",
        "df['本業收入比率'] = ((df['營業收入淨額'] - df['營業外收入及支出']) / df['營業收入淨額']) * 100\n",
        "\n",
        "\n",
        "df_本業收入比率 = df[(df['本業收入比率'] > 80)]\n",
        "\n",
        "# 提取符合條件的代號\n",
        "本業收入比率_codes = df_本業收入比率['代號'].unique().tolist()\n",
        "\n",
        "# 輸出符合條件的代號數量\n",
        "len(本業收入比率_codes)\n"
      ],
      "metadata": {
        "id": "9_rZ5crPitfT",
        "colab": {
          "base_uri": "https://localhost:8080/"
        },
        "outputId": "0c5a3d6a-bb42-40e3-f34d-487bf8c6d9d9"
      },
      "execution_count": null,
      "outputs": [
        {
          "output_type": "execute_result",
          "data": {
            "text/plain": [
              "994"
            ]
          },
          "metadata": {},
          "execution_count": 5
        }
      ]
    },
    {
      "cell_type": "code",
      "source": [
        "# 篩選業外收支/營收 < 20 的公司\n",
        "df_業外損失比率 = df[df['業外收支/營收'] < 20]\n",
        "\n",
        "# 提取符合條件的代號\n",
        "業外損失比率_codes = df_業外損失比率['代號'].unique().tolist()\n",
        "\n",
        "len(業外損失比率_codes)"
      ],
      "metadata": {
        "id": "tsbKmDwHmqg0",
        "colab": {
          "base_uri": "https://localhost:8080/"
        },
        "outputId": "4a81ad85-4ec5-4808-afac-e23373b302e8"
      },
      "execution_count": null,
      "outputs": [
        {
          "output_type": "execute_result",
          "data": {
            "text/plain": [
              "994"
            ]
          },
          "metadata": {},
          "execution_count": 6
        }
      ]
    },
    {
      "cell_type": "code",
      "source": [
        "# 篩選存貨及應收帳款/淨值 < 30 的公司\n",
        "df_存貨應收帳款 = df[df['存貨及應收帳款/淨值'] < 30]\n",
        "\n",
        "# 提取符合條件的代號\n",
        "營收灌水比率_codes = df_存貨應收帳款['代號'].unique().tolist()\n",
        "\n",
        "len(營收灌水比率_codes)"
      ],
      "metadata": {
        "id": "KLGD_C9knVKV",
        "colab": {
          "base_uri": "https://localhost:8080/"
        },
        "outputId": "b3d94002-51cf-4a06-b3cf-22c9b42dbd83"
      },
      "execution_count": null,
      "outputs": [
        {
          "output_type": "execute_result",
          "data": {
            "text/plain": [
              "465"
            ]
          },
          "metadata": {},
          "execution_count": 7
        }
      ]
    },
    {
      "cell_type": "code",
      "source": [
        "# 篩選來自營運之現金流量 > 0 的公司\n",
        "df_營運現金流量 = df[df['來自營運之現金流量'] > 0]\n",
        "\n",
        "# 提取符合條件的代號\n",
        "營運現金流量_codes = df_營運現金流量['代號'].unique().tolist()\n",
        "\n",
        "len(營運現金流量_codes)"
      ],
      "metadata": {
        "colab": {
          "base_uri": "https://localhost:8080/"
        },
        "id": "MQyWNqgOnyxb",
        "outputId": "39820504-ebfe-402c-9df7-39c0260cfa96"
      },
      "execution_count": null,
      "outputs": [
        {
          "output_type": "execute_result",
          "data": {
            "text/plain": [
              "1012"
            ]
          },
          "metadata": {},
          "execution_count": 8
        }
      ]
    },
    {
      "cell_type": "code",
      "source": [
        "# 篩選自由現金流量 > 0 的公司\n",
        "df_自由現金流量 = df[df['自由現金流量'] > 0]\n",
        "\n",
        "# 提取符合條件的代號\n",
        "自由現金流量_codes = df_自由現金流量['代號'].unique().tolist()\n",
        "\n",
        "len(自由現金流量_codes)\n"
      ],
      "metadata": {
        "colab": {
          "base_uri": "https://localhost:8080/"
        },
        "id": "RqdB6Yc_obso",
        "outputId": "13b89191-3925-4840-c58e-a7942a2f0773"
      },
      "execution_count": null,
      "outputs": [
        {
          "output_type": "execute_result",
          "data": {
            "text/plain": [
              "979"
            ]
          },
          "metadata": {},
          "execution_count": 9
        }
      ]
    },
    {
      "cell_type": "code",
      "source": [
        "# 篩選出股利支付率大於 0 的行\n",
        "df_股利 = df[df['股利支付率'] > 0]\n",
        "\n",
        "# 按代號分組，計算每家公司發放股利的年份數量\n",
        "dividend_years = df_股利.groupby('代號').size()\n",
        "\n",
        "# 篩選出發放股利至少 8 年的公司\n",
        "十年中至少八年發放股利_codes = dividend_years[dividend_years >= 8].index.unique().tolist()\n",
        "\n",
        "len(十年中至少八年發放股利_codes)"
      ],
      "metadata": {
        "colab": {
          "base_uri": "https://localhost:8080/"
        },
        "id": "JdHEdyj1onEn",
        "outputId": "de7b1bc3-090d-4e81-db18-50252092d38e"
      },
      "execution_count": null,
      "outputs": [
        {
          "output_type": "execute_result",
          "data": {
            "text/plain": [
              "720"
            ]
          },
          "metadata": {},
          "execution_count": 10
        }
      ]
    },
    {
      "cell_type": "code",
      "source": [
        "# 篩選出負債比率小於 50 的行\n",
        "df_負債比率 = df[df['總負債/總淨值'] < 50]\n",
        "\n",
        "負債比率_codes = df_負債比率['代號'].unique().tolist()\n",
        "\n",
        "len(負債比率_codes)"
      ],
      "metadata": {
        "colab": {
          "base_uri": "https://localhost:8080/"
        },
        "id": "066TOsdhpjda",
        "outputId": "5455aea4-91eb-43d4-e051-60ae44277079"
      },
      "execution_count": null,
      "outputs": [
        {
          "output_type": "execute_result",
          "data": {
            "text/plain": [
              "566"
            ]
          },
          "metadata": {},
          "execution_count": 11
        }
      ]
    },
    {
      "cell_type": "code",
      "source": [
        "# 篩選出流動比率 > 100 且 速動比率 > 100 的公司\n",
        "df_流動速動比率 = df[(df['流動比率'] > 100) & (df['速動比率'] > 100)]\n",
        "\n",
        "# 提取符合條件的代碼\n",
        "流動速動比率_codes = df_流動速動比率['代號'].unique().tolist()\n",
        "\n",
        "len(流動速動比率_codes)"
      ],
      "metadata": {
        "colab": {
          "base_uri": "https://localhost:8080/"
        },
        "id": "U5C86N_hqJQk",
        "outputId": "8290245a-f6ef-41b1-81d4-1b4e6ee29492"
      },
      "execution_count": null,
      "outputs": [
        {
          "output_type": "execute_result",
          "data": {
            "text/plain": [
              "856"
            ]
          },
          "metadata": {},
          "execution_count": 12
        }
      ]
    },
    {
      "cell_type": "code",
      "source": [
        "# 篩選出利息保障倍數 > 5 的公司\n",
        "df_利息保障倍數 = df[df['利息保障倍數'] > 5]\n",
        "\n",
        "# 提取符合條件的代碼\n",
        "利息保障倍數_codes = df_利息保障倍數['代號'].unique().tolist()\n",
        "\n",
        "len(利息保障倍數_codes)"
      ],
      "metadata": {
        "colab": {
          "base_uri": "https://localhost:8080/"
        },
        "id": "DNjLNRZWqaLg",
        "outputId": "25566624-55b8-4ec4-b41a-175543791c82"
      },
      "execution_count": null,
      "outputs": [
        {
          "output_type": "execute_result",
          "data": {
            "text/plain": [
              "961"
            ]
          },
          "metadata": {},
          "execution_count": 13
        }
      ]
    },
    {
      "cell_type": "code",
      "source": [
        "# 移除所有欄位名稱中的前後空格\n",
        "df.columns = df.columns.str.strip()\n",
        "\n",
        "# 確保 '年/月' 是日期格式，便於進行時間處理\n",
        "df['年/月'] = pd.to_datetime(df['年/月'], format='%Y/%m')\n",
        "\n",
        "# 假設目前年是最新的年度，這邊以最大日期作為目前年份\n",
        "current_year = df['年/月'].max()\n",
        "\n",
        "# 計算5年前的年份\n",
        "five_years_ago = current_year - pd.DateOffset(years=5)\n",
        "\n",
        "# 按代號分組，查找每個公司在目前年份和5年前的股本\n",
        "df_current = df[df['年/月'] == current_year]\n",
        "df_5_years_ago = df[df['年/月'] == five_years_ago]\n",
        "\n",
        "# 合併目前股本與5年前股本，根據代號匹配\n",
        "df_merged = pd.merge(df_current[['代號', '股本']], df_5_years_ago[['代號', '股本']], on='代號', suffixes=('_current', '_5_years_ago'))\n",
        "\n",
        "# 計算股本膨脹比率\n",
        "df_merged['股本膨脹比率'] = (df_merged['股本_current'] - df_merged['股本_5_years_ago']) / df_merged['股本_current']\n",
        "\n",
        "# 篩選股本膨脹比率小於 20% 的公司\n",
        "df_filtered = df_merged[df_merged['股本膨脹比率'] < 0.2]\n",
        "\n",
        "# 提取符合條件的代號\n",
        "股本膨脹比率_codes = df_filtered['代號'].unique().tolist()\n",
        "\n",
        "# 顯示結果\n",
        "(len(股本膨脹比率_codes))"
      ],
      "metadata": {
        "colab": {
          "base_uri": "https://localhost:8080/"
        },
        "id": "crGD1qyf7RpR",
        "outputId": "7d2c4c1c-58aa-449d-cdef-970034926466"
      },
      "execution_count": null,
      "outputs": [
        {
          "output_type": "execute_result",
          "data": {
            "text/plain": [
              "833"
            ]
          },
          "metadata": {},
          "execution_count": 14
        }
      ]
    },
    {
      "cell_type": "code",
      "source": [
        "df_營收 = pd.read_excel('近12個月營收.xlsx')\n",
        "\n",
        "# 篩選符合條件的資料\n",
        "filtered_df = df_營收[df_營收['近12月累計營收(千元)'] > 300000]\n",
        "\n",
        "# 提取符合條件的代號\n",
        "營收_codes = filtered_df['代號'].unique().tolist()\n",
        "\n",
        "# 輸出符合條件的代號\n",
        "len(營收_codes)"
      ],
      "metadata": {
        "id": "8oPowTPfS_NG",
        "colab": {
          "base_uri": "https://localhost:8080/"
        },
        "outputId": "25756232-e549-4346-bb14-5b68f2acc632"
      },
      "execution_count": null,
      "outputs": [
        {
          "output_type": "execute_result",
          "data": {
            "text/plain": [
              "969"
            ]
          },
          "metadata": {},
          "execution_count": 16
        }
      ]
    },
    {
      "cell_type": "code",
      "source": [
        "df_每股淨值 = pd.read_excel('每股淨值.xlsx')\n",
        "\n",
        "# 篩選符合條件的資料\n",
        "filtered_df = df_每股淨值[df_每股淨值['每股淨值'] > 15]\n",
        "\n",
        "# 提取符合條件的代號\n",
        "每股淨值_codes = filtered_df['代號'].unique().tolist()\n",
        "\n",
        "# 輸出符合條件的代號\n",
        "len(每股淨值_codes)"
      ],
      "metadata": {
        "colab": {
          "base_uri": "https://localhost:8080/"
        },
        "id": "JhtKU-F-b1Ur",
        "outputId": "aa4aab61-bf76-4064-d753-02cad2752206"
      },
      "execution_count": null,
      "outputs": [
        {
          "output_type": "execute_result",
          "data": {
            "text/plain": [
              "817"
            ]
          },
          "metadata": {},
          "execution_count": 18
        }
      ]
    },
    {
      "cell_type": "code",
      "source": [
        "# 讀取資料\n",
        "df2 = pd.read_excel('籌碼面資料2010-2023.xlsx')\n",
        "\n",
        "# 篩選集團法人董監持股%大於33%的資料\n",
        "df_持股 = df[df2['集團法人董監持股%'] > 33]\n",
        "\n",
        "# 提取符合條件的代號\n",
        "持股_codes = df_持股['代號'].unique().tolist()\n",
        "\n",
        "# 輸出符合條件的代號\n",
        "len(持股_codes)"
      ],
      "metadata": {
        "colab": {
          "base_uri": "https://localhost:8080/"
        },
        "id": "ieAjKiEw2rbN",
        "outputId": "89989110-7bc1-4b08-9671-b774b1e15bb7"
      },
      "execution_count": null,
      "outputs": [
        {
          "output_type": "stream",
          "name": "stderr",
          "text": [
            "<ipython-input-19-d3d78947cc3d>:5: UserWarning: Boolean Series key will be reindexed to match DataFrame index.\n",
            "  df_持股 = df[df2['集團法人董監持股%'] > 33]\n"
          ]
        },
        {
          "output_type": "execute_result",
          "data": {
            "text/plain": [
              "835"
            ]
          },
          "metadata": {},
          "execution_count": 19
        }
      ]
    },
    {
      "cell_type": "code",
      "source": [
        "df_董監質押 = df[df2['董監質押%'] < 33]\n",
        "\n",
        "# 提取符合條件的代號\n",
        "董監質押_codes = df_董監質押['代號'].unique().tolist()\n",
        "\n",
        "# 輸出符合條件的代號\n",
        "len(董監質押_codes)"
      ],
      "metadata": {
        "colab": {
          "base_uri": "https://localhost:8080/"
        },
        "id": "8dXEGh4j3_U4",
        "outputId": "9b3f7cd9-6f02-4bbb-cdc1-c7e69ac79eb6"
      },
      "execution_count": null,
      "outputs": [
        {
          "output_type": "stream",
          "name": "stderr",
          "text": [
            "<ipython-input-20-ea1b9a50b22a>:1: UserWarning: Boolean Series key will be reindexed to match DataFrame index.\n",
            "  df_董監質押 = df[df2['董監質押%'] < 33]\n"
          ]
        },
        {
          "output_type": "execute_result",
          "data": {
            "text/plain": [
              "1020"
            ]
          },
          "metadata": {},
          "execution_count": 20
        }
      ]
    },
    {
      "cell_type": "code",
      "source": [
        "# 讀取資料\n",
        "df3 = pd.read_excel('股價淨值比2010-2023.xlsx')\n",
        "\n",
        "df_股價淨值比 = df[df3['股價淨值比-TEJ'] < 1.5]\n",
        "\n",
        "# 提取符合條件的代號\n",
        "股價淨值比_codes = df_股價淨值比['代號'].unique().tolist()\n",
        "\n",
        "# 輸出符合條件的代號\n",
        "len(股價淨值比_codes)"
      ],
      "metadata": {
        "colab": {
          "base_uri": "https://localhost:8080/"
        },
        "id": "tAmbY53-5_Wj",
        "outputId": "308bb866-3264-402c-a07f-8f034c4e75f9"
      },
      "execution_count": null,
      "outputs": [
        {
          "output_type": "stream",
          "name": "stderr",
          "text": [
            "<ipython-input-21-3e03bdb21d6d>:4: UserWarning: Boolean Series key will be reindexed to match DataFrame index.\n",
            "  df_股價淨值比 = df[df3['股價淨值比-TEJ'] < 1.5]\n"
          ]
        },
        {
          "output_type": "execute_result",
          "data": {
            "text/plain": [
              "1017"
            ]
          },
          "metadata": {},
          "execution_count": 21
        }
      ]
    },
    {
      "cell_type": "code",
      "source": [
        "# 將所有代碼列表轉換為集合\n",
        "上市時間_set = set(上市時間_codes)\n",
        "EPS_set = set(EPS_codes)\n",
        "股本_set = set(股本_codes)\n",
        "本業收入比率_set = set(本業收入比率_codes)\n",
        "業外損失比率_set = set(業外損失比率_codes)\n",
        "營收灌水比率_set = set(營收灌水比率_codes)\n",
        "營運現金流量_set = set(營運現金流量_codes)\n",
        "自由現金流量_set = set(自由現金流量_codes)\n",
        "十年中至少八年發放股利_set = set(十年中至少八年發放股利_codes)\n",
        "負債比率_set = set(負債比率_codes)\n",
        "流動速動比率_set = set(流動速動比率_codes)\n",
        "利息保障倍數_set = set(利息保障倍數_codes)\n",
        "股本膨脹比率_set = set(股本膨脹比率_codes)\n",
        "營收_set = set(營收_codes)\n",
        "每股淨值_set = set(每股淨值_codes)\n",
        "持股_set = set(持股_codes)\n",
        "董監質押_set = set(董監質押_codes)\n",
        "股價淨值比_set = set(股價淨值比_codes)\n",
        "\n",
        "# 計算所有集合的交集\n",
        "交集_codes =上市時間_set.intersection(\n",
        "    EPS_set,\n",
        "    股本_set,\n",
        "    本業收入比率_set,\n",
        "    業外損失比率_set,\n",
        "    營收灌水比率_set,\n",
        "    營運現金流量_set,\n",
        "    自由現金流量_set,\n",
        "    十年中至少八年發放股利_set,\n",
        "    負債比率_set,\n",
        "    流動速動比率_set,\n",
        "    利息保障倍數_set,\n",
        "    股本膨脹比率_set,\n",
        "    營收_set,\n",
        "    每股淨值_set,\n",
        "    持股_set,\n",
        "    董監質押_set,\n",
        "    股價淨值比_set\n",
        ")\n",
        "\n",
        "# 輸出交集的代號\n",
        "# 將交集結果中的浮點數轉換為整數\n",
        "交集_codes = {int(code) for code in 交集_codes}\n",
        "\n",
        "# 輸出修正後的交集代號\n",
        "print(交集_codes)\n",
        "\n",
        "# 計算交集代號的數量\n",
        "print(len(交集_codes))\n"
      ],
      "metadata": {
        "colab": {
          "base_uri": "https://localhost:8080/"
        },
        "id": "pFCLrmzN6Miu",
        "outputId": "c79cc7ed-bd89-4397-bdfb-1f38d64207a6"
      },
      "execution_count": null,
      "outputs": [
        {
          "output_type": "stream",
          "name": "stdout",
          "text": [
            "{2441, 8464, 1301, 2454, 2330, 1308, 1440, 2340, 1319, 2344, 4904, 2474, 2605, 1326, 8110, 2354, 9908, 2104, 2107, 3532, 1103, 1234, 2514, 1110, 8926, 2015, 1504, 2408, 6505, 2412, 2303}\n",
            "31\n"
          ]
        }
      ]
    },
    {
      "cell_type": "code",
      "source": [
        "import requests\n",
        "from bs4 import BeautifulSoup\n",
        "import csv\n",
        "# 準備存儲所有結果的列表\n",
        "all_table_data = []\n",
        "\n",
        "# 遍歷每個代碼\n",
        "for code in 交集_codes:\n",
        "\n",
        "    url = f'https://histock.tw/stock/{code}/%E7%9B%88%E9%A4%98%E5%86%8D%E6%8A%95%E8%B3%87%E6%AF%94%E7%8E%87'\n",
        "\n",
        "    # 發送請求到目標網頁\n",
        "    response = requests.get(url)\n",
        "\n",
        "    # 使用 BeautifulSoup 解析網頁內容\n",
        "    soup = BeautifulSoup(response.content, 'html.parser')\n",
        "\n",
        "    # 找到目標表格 (通過 class 名稱)\n",
        "    table = soup.find('table', {'class': 'tb-stock tbBasic'})\n",
        "\n",
        "    # 準備存儲每個代碼的表格數據\n",
        "    table_data = []\n",
        "\n",
        "    # 查找所有行\n",
        "    if table:\n",
        "        rows = table.find_all('tr')\n",
        "\n",
        "        # 遍歷每一行，提取其中的數據\n",
        "        for row in rows:\n",
        "            # 查找每行中的單元格 <td>\n",
        "            cells = row.find_all('td')\n",
        "            if len(cells) == 2:  # 確保行中有兩個單元格\n",
        "                season = cells[0].text.strip()  # 年度/季別\n",
        "                reinvestment_rate = cells[1].text.strip()  # 盈餘再投資比\n",
        "                # 將數據添加到列表中\n",
        "                table_data.append([code, season, reinvestment_rate])\n",
        "\n",
        "        # 將此代碼的數據添加到總列表中\n",
        "        all_table_data.extend(table_data)\n",
        "\n",
        "# 將所有數據輸出到 CSV 文件\n",
        "with open('reinvestment_rate_codes.csv', 'w', newline='', encoding='utf-8') as file:\n",
        "    writer = csv.writer(file)\n",
        "    writer.writerow(['代碼', '年度/季別', '盈餘再投資比'])  # 寫入表頭\n",
        "    writer.writerows(all_table_data)  # 寫入所有數據\n",
        "\n",
        "# 打印抓取結果\n",
        "for row in all_table_data:\n",
        "    print(f\"{row[0]} - {row[1]}: {row[2]}\")\n"
      ],
      "metadata": {
        "id": "EwmTXS5kGXg6",
        "colab": {
          "base_uri": "https://localhost:8080/"
        },
        "outputId": "3457b2b7-ebfc-4c45-be71-c6527d6294e0"
      },
      "execution_count": null,
      "outputs": [
        {
          "output_type": "stream",
          "name": "stdout",
          "text": [
            "2441 - 2024Q3: 16.18%\n",
            "2441 - 2024Q2: 18.03%\n",
            "2441 - 2024Q1: 19.39%\n",
            "2441 - 2023Q4: 24.64%\n",
            "2441 - 2023Q3: 28.89%\n",
            "2441 - 2023Q2: 31.36%\n",
            "2441 - 2023Q1: 33.33%\n",
            "2441 - 2022Q4: 35.36%\n",
            "2441 - 2022Q3: 38.54%\n",
            "2441 - 2022Q2: 34.61%\n",
            "2441 - 2022Q1: 35.12%\n",
            "2441 - 2021Q4: 29.59%\n",
            "2441 - 2021Q3: 25.09%\n",
            "2441 - 2021Q2: 22.10%\n",
            "2441 - 2021Q1: 19.69%\n",
            "2441 - 2020Q4: 19.00%\n",
            "2441 - 2020Q3: 25.10%\n",
            "2441 - 2020Q2: 24.54%\n",
            "2441 - 2020Q1: 28.39%\n",
            "2441 - 2019Q4: 25.83%\n",
            "2441 - 2019Q3: 24.51%\n",
            "2441 - 2019Q2: 22.37%\n",
            "2441 - 2019Q1: 26.02%\n",
            "8464 - 2024Q3: 16.07%\n",
            "8464 - 2024Q2: 14.27%\n",
            "8464 - 2024Q1: 14.69%\n",
            "8464 - 2023Q4: 12.79%\n",
            "8464 - 2023Q3: 12.42%\n",
            "8464 - 2023Q2: 12.49%\n",
            "8464 - 2023Q1: 12.78%\n",
            "8464 - 2022Q4: 16.61%\n",
            "8464 - 2022Q3: 19.28%\n",
            "8464 - 2022Q2: 17.40%\n",
            "8464 - 2022Q1: 15.85%\n",
            "8464 - 2021Q4: 14.14%\n",
            "8464 - 2021Q3: 14.31%\n",
            "8464 - 2021Q2: 13.12%\n",
            "8464 - 2021Q1: 14.03%\n",
            "8464 - 2020Q4: 13.36%\n",
            "8464 - 2020Q3: 11.43%\n",
            "8464 - 2020Q2: 8.94%\n",
            "8464 - 2020Q1: 8.79%\n",
            "8464 - 2019Q4: 8.71%\n",
            "8464 - 2019Q3: 13.05%\n",
            "1301 - 2024Q3: 56.09%\n",
            "1301 - 2024Q2: 58.46%\n",
            "1301 - 2024Q1: 45.37%\n",
            "1301 - 2023Q4: 34.78%\n",
            "1301 - 2023Q3: 34.78%\n",
            "1301 - 2023Q2: 25.89%\n",
            "1301 - 2023Q1: 19.19%\n",
            "1301 - 2022Q4: 23.78%\n",
            "1301 - 2022Q3: 26.32%\n",
            "1301 - 2022Q2: 19.85%\n",
            "1301 - 2022Q1: 29.50%\n",
            "1301 - 2021Q4: 19.24%\n",
            "1301 - 2021Q3: 17.34%\n",
            "1301 - 2021Q2: 18.32%\n",
            "1301 - 2021Q1: 11.71%\n",
            "1301 - 2020Q4: 5.11%\n",
            "1301 - 2020Q3: 6.78%\n",
            "1301 - 2020Q2: -2.06%\n",
            "1301 - 2020Q1: 7.77%\n",
            "1301 - 2019Q4: 13.56%\n",
            "1301 - 2019Q3: 16.42%\n",
            "1301 - 2019Q2: 14.38%\n",
            "1301 - 2019Q1: 18.65%\n",
            "2454 - 2024Q3: 0.06%\n",
            "2454 - 2024Q2: 2.49%\n",
            "2454 - 2024Q1: 5.02%\n",
            "2454 - 2023Q4: 4.57%\n",
            "2454 - 2023Q3: 3.72%\n",
            "2454 - 2023Q2: 5.37%\n",
            "2454 - 2023Q1: 6.54%\n",
            "2454 - 2022Q4: 8.13%\n",
            "2454 - 2022Q3: 16.12%\n",
            "2454 - 2022Q2: 19.40%\n",
            "2454 - 2022Q1: 18.71%\n",
            "2454 - 2021Q4: 19.40%\n",
            "2454 - 2021Q3: 9.89%\n",
            "2454 - 2021Q2: 24.19%\n",
            "2454 - 2021Q1: 31.00%\n",
            "2454 - 2020Q4: 18.06%\n",
            "2454 - 2020Q3: 15.69%\n",
            "2454 - 2020Q2: 8.10%\n",
            "2454 - 2020Q1: 2.78%\n",
            "2454 - 2019Q4: 2.06%\n",
            "2454 - 2019Q3: 10.51%\n",
            "2454 - 2019Q2: 11.83%\n",
            "2454 - 2019Q1: 14.13%\n",
            "2330 - 2024Q3: 47.02%\n",
            "2330 - 2024Q2: 51.16%\n",
            "2330 - 2024Q1: 53.26%\n",
            "2330 - 2023Q4: 58.47%\n",
            "2330 - 2023Q3: 68.32%\n",
            "2330 - 2023Q2: 66.25%\n",
            "2330 - 2023Q1: 66.18%\n",
            "2330 - 2022Q4: 65.86%\n",
            "2330 - 2022Q3: 60.18%\n",
            "2330 - 2022Q2: 58.49%\n",
            "2330 - 2022Q1: 54.80%\n",
            "2330 - 2021Q4: 49.29%\n",
            "2330 - 2021Q3: 42.57%\n",
            "2330 - 2021Q2: 36.98%\n",
            "2330 - 2021Q1: 37.08%\n",
            "2330 - 2020Q4: 34.05%\n",
            "2330 - 2020Q3: 35.46%\n",
            "2330 - 2020Q2: 39.42%\n",
            "2330 - 2020Q1: 39.75%\n",
            "2330 - 2019Q4: 35.12%\n",
            "2330 - 2019Q3: 26.62%\n",
            "2330 - 2019Q2: 23.20%\n",
            "2330 - 2019Q1: 21.29%\n",
            "1308 - 2024Q3: -48.77%\n",
            "1308 - 2024Q2: -38.57%\n",
            "1308 - 2024Q1: -34.70%\n",
            "1308 - 2023Q4: -23.22%\n",
            "1308 - 2023Q3: -18.17%\n",
            "1308 - 2023Q2: -11.35%\n",
            "1308 - 2023Q1: 2.39%\n",
            "1308 - 2022Q4: 6.52%\n",
            "1308 - 2022Q3: 14.09%\n",
            "1308 - 2022Q2: 50.26%\n",
            "1308 - 2022Q1: 64.02%\n",
            "1308 - 2021Q4: 6.22%\n",
            "1308 - 2021Q3: 9.44%\n",
            "1308 - 2021Q2: 24.40%\n",
            "1308 - 2021Q1: 29.89%\n",
            "1308 - 2020Q4: 55.07%\n",
            "1308 - 2020Q3: 53.82%\n",
            "1308 - 2020Q2: 57.28%\n",
            "1308 - 2020Q1: 67.92%\n",
            "1308 - 2019Q4: 51.40%\n",
            "1308 - 2019Q3: 70.75%\n",
            "1308 - 2019Q2: 52.57%\n",
            "1308 - 2019Q1: 48.35%\n",
            "1440 - 2024Q3: 26.87%\n",
            "1440 - 2024Q2: 21.99%\n",
            "1440 - 2024Q1: 22.42%\n",
            "1440 - 2023Q4: 29.54%\n",
            "1440 - 2023Q3: 65.87%\n",
            "1440 - 2023Q2: 61.43%\n",
            "1440 - 2023Q1: 59.65%\n",
            "1440 - 2022Q4: 64.84%\n",
            "1440 - 2022Q3: 69.14%\n",
            "1440 - 2022Q2: 71.62%\n",
            "1440 - 2022Q1: 72.28%\n",
            "1440 - 2021Q4: -88.48%\n",
            "1440 - 2021Q3: -107.45%\n",
            "1440 - 2021Q2: -125.03%\n",
            "1440 - 2021Q1: -164.29%\n",
            "1440 - 2020Q4: -304.33%\n",
            "1440 - 2020Q3: -410.09%\n",
            "1440 - 2020Q2: -455.16%\n",
            "1440 - 2020Q1: -404.09%\n",
            "1440 - 2019Q4: -435.09%\n",
            "1440 - 2019Q3: -410.43%\n",
            "1440 - 2019Q2: -348.79%\n",
            "1440 - 2019Q1: -329.04%\n",
            "2340 - 2024Q3: 254.33%\n",
            "2340 - 2024Q2: 190.42%\n",
            "2340 - 2024Q1: 138.93%\n",
            "2340 - 2023Q4: 118.11%\n",
            "2340 - 2023Q3: 41.89%\n",
            "2340 - 2023Q2: -0.73%\n",
            "2340 - 2023Q1: -21.47%\n",
            "2340 - 2022Q4: -14.62%\n",
            "2340 - 2022Q3: -18.90%\n",
            "2340 - 2022Q2: -17.64%\n",
            "2340 - 2022Q1: -10.38%\n",
            "2340 - 2021Q4: -47.44%\n",
            "2340 - 2021Q3: -38.82%\n",
            "2340 - 2021Q2: -44.50%\n",
            "2340 - 2021Q1: -43.41%\n",
            "2340 - 2020Q4: -43.20%\n",
            "2340 - 2020Q3: -42.43%\n",
            "2340 - 2020Q2: -38.14%\n",
            "2340 - 2020Q1: -40.48%\n",
            "2340 - 2019Q3: -42.47%\n",
            "2340 - 2019Q2: -39.02%\n",
            "2340 - 2019Q1: -37.56%\n",
            "1319 - 2024Q3: -41.96%\n",
            "1319 - 2024Q2: -42.27%\n",
            "1319 - 2024Q1: -51.51%\n",
            "1319 - 2023Q4: -63.14%\n",
            "1319 - 2023Q3: -69.39%\n",
            "1319 - 2023Q2: -77.53%\n",
            "1319 - 2023Q1: -69.42%\n",
            "1319 - 2022Q4: -63.95%\n",
            "1319 - 2022Q3: -50.71%\n",
            "1319 - 2022Q2: -53.27%\n",
            "1319 - 2022Q1: -20.26%\n",
            "1319 - 2021Q4: -25.65%\n",
            "1319 - 2021Q3: -17.30%\n",
            "1319 - 2021Q2: -2.15%\n",
            "1319 - 2021Q1: 8.81%\n",
            "1319 - 2020Q4: 14.29%\n",
            "1319 - 2020Q3: 18.70%\n",
            "1319 - 2020Q2: 17.83%\n",
            "1319 - 2020Q1: 21.31%\n",
            "1319 - 2019Q4: 22.84%\n",
            "1319 - 2019Q3: 31.20%\n",
            "1319 - 2019Q2: 38.56%\n",
            "1319 - 2019Q1: 40.66%\n",
            "2344 - 2024Q3: 139.87%\n",
            "2344 - 2024Q2: 157.77%\n",
            "2344 - 2024Q1: 168.77%\n",
            "2344 - 2023Q4: 163.76%\n",
            "2344 - 2023Q3: 134.11%\n",
            "2344 - 2023Q2: 132.47%\n",
            "2344 - 2023Q1: 147.34%\n",
            "2344 - 2022Q4: 145.02%\n",
            "2344 - 2022Q3: 145.98%\n",
            "2344 - 2022Q2: 130.67%\n",
            "2344 - 2022Q1: 109.23%\n",
            "2344 - 2021Q4: 79.65%\n",
            "2344 - 2021Q3: 85.62%\n",
            "2344 - 2021Q2: 123.87%\n",
            "2344 - 2021Q1: 154.54%\n",
            "2344 - 2020Q4: 180.38%\n",
            "2344 - 2020Q3: 185.28%\n",
            "2344 - 2020Q2: 146.30%\n",
            "2344 - 2020Q1: 140.69%\n",
            "2344 - 2019Q4: 149.09%\n",
            "2344 - 2019Q3: 133.23%\n",
            "2344 - 2019Q2: 123.67%\n",
            "2344 - 2019Q1: 108.05%\n",
            "4904 - 2024Q3: 23.55%\n",
            "4904 - 2024Q2: 30.83%\n",
            "4904 - 2024Q1: 33.77%\n",
            "4904 - 2023Q4: 32.01%\n",
            "4904 - 2023Q3: 6.19%\n",
            "4904 - 2023Q2: 2.91%\n",
            "4904 - 2023Q1: 1.28%\n",
            "4904 - 2022Q4: -1.79%\n",
            "4904 - 2022Q3: -6.72%\n",
            "4904 - 2022Q2: -7.86%\n",
            "4904 - 2022Q1: -9.31%\n",
            "4904 - 2021Q4: -18.33%\n",
            "4904 - 2021Q3: -22.12%\n",
            "4904 - 2021Q2: -26.30%\n",
            "4904 - 2021Q1: -28.84%\n",
            "4904 - 2020Q4: -32.63%\n",
            "4904 - 2020Q3: -40.62%\n",
            "4904 - 2020Q2: -46.72%\n",
            "4904 - 2020Q1: -44.05%\n",
            "4904 - 2019Q4: -41.10%\n",
            "4904 - 2019Q3: -39.42%\n",
            "4904 - 2019Q2: -35.90%\n",
            "4904 - 2019Q1: -31.37%\n",
            "2474 - 2024Q3: -32.18%\n",
            "2474 - 2024Q2: -35.69%\n",
            "2474 - 2024Q1: -41.83%\n",
            "2474 - 2023Q4: -48.36%\n",
            "2474 - 2023Q3: -50.30%\n",
            "2474 - 2023Q2: -58.91%\n",
            "2474 - 2023Q1: -64.33%\n",
            "2474 - 2022Q4: -62.45%\n",
            "2474 - 2022Q3: -54.27%\n",
            "2474 - 2022Q2: -55.58%\n",
            "2474 - 2022Q1: -53.03%\n",
            "2474 - 2021Q4: -49.34%\n",
            "2474 - 2021Q3: -39.39%\n",
            "2474 - 2021Q2: -34.50%\n",
            "2474 - 2021Q1: -32.84%\n",
            "2474 - 2020Q4: -35.55%\n",
            "2474 - 2020Q3: -24.67%\n",
            "2474 - 2020Q2: -23.82%\n",
            "2474 - 2020Q1: -24.18%\n",
            "2474 - 2019Q4: -23.02%\n",
            "2474 - 2019Q3: -18.02%\n",
            "2474 - 2019Q2: -8.56%\n",
            "2474 - 2019Q1: 0.41%\n",
            "2605 - 2024Q3: -70.80%\n",
            "2605 - 2024Q2: -66.55%\n",
            "2605 - 2024Q1: -129.90%\n",
            "2605 - 2023Q4: -166.63%\n",
            "2605 - 2023Q3: -145.33%\n",
            "2605 - 2023Q2: -202.78%\n",
            "2605 - 2023Q1: -246.35%\n",
            "2605 - 2022Q4: -252.45%\n",
            "2605 - 2022Q3: -287.52%\n",
            "2605 - 2022Q2: -315.54%\n",
            "2605 - 2022Q1: -323.37%\n",
            "2605 - 2021Q4: -339.05%\n",
            "2605 - 2021Q3: -478.46%\n",
            "2605 - 2021Q2: -550.67%\n",
            "2605 - 2021Q1: -472.01%\n",
            "2605 - 2020Q4: -345.18%\n",
            "2605 - 2020Q3: -283.13%\n",
            "2605 - 2020Q2: -330.12%\n",
            "2605 - 2020Q1: -267.90%\n",
            "2605 - 2019Q4: -266.01%\n",
            "2605 - 2019Q3: -262.82%\n",
            "2605 - 2019Q2: -120.08%\n",
            "2605 - 2019Q1: -109.05%\n",
            "1326 - 2024Q3: 56.45%\n",
            "1326 - 2024Q2: 59.70%\n",
            "1326 - 2024Q1: 46.16%\n",
            "1326 - 2023Q4: 40.30%\n",
            "1326 - 2023Q3: 38.89%\n",
            "1326 - 2023Q2: 29.20%\n",
            "1326 - 2023Q1: 16.06%\n",
            "1326 - 2022Q4: 15.87%\n",
            "1326 - 2022Q3: 18.82%\n",
            "1326 - 2022Q2: 14.22%\n",
            "1326 - 2022Q1: 15.15%\n",
            "1326 - 2021Q4: -30.61%\n",
            "1326 - 2021Q3: -26.03%\n",
            "1326 - 2021Q2: -20.99%\n",
            "1326 - 2021Q1: -26.36%\n",
            "1326 - 2020Q4: -33.44%\n",
            "1326 - 2020Q3: -31.29%\n",
            "1326 - 2020Q2: -37.68%\n",
            "1326 - 2020Q1: -31.78%\n",
            "1326 - 2019Q4: -24.48%\n",
            "1326 - 2019Q3: -24.94%\n",
            "1326 - 2019Q2: -26.73%\n",
            "1326 - 2019Q1: -21.86%\n",
            "8110 - 2024Q3: -747.35%\n",
            "8110 - 2024Q2: -239.47%\n",
            "8110 - 2024Q1: -132.95%\n",
            "8110 - 2023Q4: -117.32%\n",
            "8110 - 2023Q3: -43.02%\n",
            "8110 - 2023Q2: -50.50%\n",
            "8110 - 2023Q1: -59.86%\n",
            "8110 - 2022Q4: -120.48%\n",
            "8110 - 2022Q3: -44.12%\n",
            "8110 - 2022Q2: -64.98%\n",
            "8110 - 2022Q1: -25.90%\n",
            "8110 - 2021Q4: -172.97%\n",
            "8110 - 2021Q3: -126.34%\n",
            "8110 - 2021Q2: -58.37%\n",
            "8110 - 2021Q1: -124.83%\n",
            "8110 - 2020Q4: -102.02%\n",
            "8110 - 2020Q3: -33.80%\n",
            "8110 - 2020Q2: -61.56%\n",
            "8110 - 2020Q1: -99.91%\n",
            "8110 - 2019Q4: -122.60%\n",
            "8110 - 2019Q3: -149.22%\n",
            "8110 - 2019Q2: -176.32%\n",
            "8110 - 2019Q1: -195.53%\n",
            "2354 - 2024Q3: -9.93%\n",
            "2354 - 2024Q2: -10.56%\n",
            "2354 - 2024Q1: -13.86%\n",
            "2354 - 2023Q4: -19.91%\n",
            "2354 - 2023Q3: -32.66%\n",
            "2354 - 2023Q2: -32.92%\n",
            "2354 - 2023Q1: -31.17%\n",
            "2354 - 2022Q4: -31.51%\n",
            "2354 - 2022Q3: -16.96%\n",
            "2354 - 2022Q2: -17.04%\n",
            "2354 - 2022Q1: -14.73%\n",
            "2354 - 2021Q4: -256.50%\n",
            "2354 - 2021Q3: -179.92%\n",
            "2354 - 2021Q2: -194.03%\n",
            "2354 - 2021Q1: -197.10%\n",
            "2354 - 2020Q4: -116.20%\n",
            "2354 - 2020Q3: -88.06%\n",
            "2354 - 2020Q2: -13.83%\n",
            "2354 - 2020Q1: -15.46%\n",
            "2354 - 2019Q4: -15.37%\n",
            "2354 - 2019Q3: -4.87%\n",
            "2354 - 2019Q2: -9.29%\n",
            "2354 - 2019Q1: -5.33%\n",
            "9908 - 2024Q3: 36.03%\n",
            "9908 - 2024Q2: 36.81%\n",
            "9908 - 2024Q1: 37.78%\n",
            "9908 - 2023Q4: 38.11%\n",
            "9908 - 2023Q3: 23.95%\n",
            "9908 - 2023Q2: 23.32%\n",
            "9908 - 2023Q1: 24.80%\n",
            "9908 - 2022Q4: 25.73%\n",
            "9908 - 2022Q3: 26.61%\n",
            "9908 - 2022Q2: 27.12%\n",
            "9908 - 2022Q1: 27.27%\n",
            "9908 - 2021Q4: -127.12%\n",
            "9908 - 2021Q3: -133.83%\n",
            "9908 - 2021Q2: -135.86%\n",
            "9908 - 2021Q1: -137.27%\n",
            "9908 - 2020Q4: -139.08%\n",
            "9908 - 2020Q3: -131.66%\n",
            "9908 - 2020Q2: -135.12%\n",
            "9908 - 2020Q1: -136.10%\n",
            "9908 - 2019Q4: -137.08%\n",
            "9908 - 2019Q3: -138.13%\n",
            "9908 - 2019Q2: -146.92%\n",
            "9908 - 2019Q1: -149.31%\n",
            "2104 - 2024Q3: 271.56%\n",
            "2104 - 2024Q2: 207.63%\n",
            "2104 - 2024Q1: 186.86%\n",
            "2104 - 2023Q4: 188.14%\n",
            "2104 - 2023Q3: 233.91%\n",
            "2104 - 2023Q2: 203.28%\n",
            "2104 - 2023Q1: 181.13%\n",
            "2104 - 2022Q4: 169.69%\n",
            "2104 - 2022Q3: 177.55%\n",
            "2104 - 2022Q2: 149.73%\n",
            "2104 - 2022Q1: 131.49%\n",
            "2104 - 2021Q4: 63.55%\n",
            "2104 - 2021Q3: 72.79%\n",
            "2104 - 2021Q2: 19.14%\n",
            "2104 - 2021Q1: 64.10%\n",
            "2104 - 2020Q4: 52.13%\n",
            "2104 - 2020Q3: 45.79%\n",
            "2104 - 2020Q2: 50.73%\n",
            "2104 - 2020Q1: 47.55%\n",
            "2104 - 2019Q4: 40.33%\n",
            "2104 - 2019Q3: 25.08%\n",
            "2104 - 2019Q2: 17.86%\n",
            "2104 - 2019Q1: 4.89%\n",
            "2107 - 2024Q3: -1.31%\n",
            "2107 - 2024Q2: -1.43%\n",
            "2107 - 2024Q1: -2.18%\n",
            "2107 - 2023Q4: -3.22%\n",
            "2107 - 2023Q3: -3.79%\n",
            "2107 - 2023Q2: -4.09%\n",
            "2107 - 2023Q1: -3.34%\n",
            "2107 - 2022Q4: -3.60%\n",
            "2107 - 2022Q3: -3.77%\n",
            "2107 - 2022Q2: -4.17%\n",
            "2107 - 2022Q1: -3.60%\n",
            "2107 - 2021Q4: -131.43%\n",
            "2107 - 2021Q3: -139.26%\n",
            "2107 - 2021Q2: -142.63%\n",
            "2107 - 2021Q1: -158.64%\n",
            "2107 - 2020Q4: -177.81%\n",
            "2107 - 2020Q3: -171.58%\n",
            "2107 - 2020Q2: -205.86%\n",
            "2107 - 2020Q1: -226.40%\n",
            "2107 - 2019Q4: -266.74%\n",
            "2107 - 2019Q3: -239.61%\n",
            "2107 - 2019Q2: -240.94%\n",
            "2107 - 2019Q1: -277.43%\n",
            "3532 - 2024Q3: 291.17%\n",
            "3532 - 2024Q2: 271.88%\n",
            "3532 - 2024Q1: 259.74%\n",
            "3532 - 2023Q4: 232.81%\n",
            "3532 - 2023Q3: 187.09%\n",
            "3532 - 2023Q2: 135.84%\n",
            "3532 - 2023Q1: 88.79%\n",
            "3532 - 2022Q4: 47.49%\n",
            "3532 - 2022Q3: 10.52%\n",
            "3532 - 2022Q2: -2.18%\n",
            "3532 - 2022Q1: -26.49%\n",
            "3532 - 2021Q4: -28.13%\n",
            "3532 - 2021Q3: -26.50%\n",
            "3532 - 2021Q2: -27.47%\n",
            "3532 - 2021Q1: -32.12%\n",
            "3532 - 2020Q4: -32.67%\n",
            "3532 - 2020Q3: -38.16%\n",
            "3532 - 2020Q2: -38.47%\n",
            "3532 - 2020Q1: -36.36%\n",
            "3532 - 2019Q4: -36.76%\n",
            "3532 - 2019Q3: -33.53%\n",
            "3532 - 2019Q2: -33.16%\n",
            "3532 - 2019Q1: -38.98%\n",
            "1103 - 2024Q3: -25.95%\n",
            "1103 - 2024Q2: -40.65%\n",
            "1103 - 2024Q1: -42.16%\n",
            "1103 - 2023Q4: -45.80%\n",
            "1103 - 2023Q3: 26.24%\n",
            "1103 - 2023Q2: 40.05%\n",
            "1103 - 2023Q1: 63.38%\n",
            "1103 - 2022Q4: 125.58%\n",
            "1103 - 2022Q3: 161.23%\n",
            "1103 - 2022Q2: 145.27%\n",
            "1103 - 2022Q1: 125.83%\n",
            "1103 - 2021Q4: -277.39%\n",
            "1103 - 2021Q3: -204.73%\n",
            "1103 - 2021Q2: -241.39%\n",
            "1103 - 2021Q1: -174.63%\n",
            "1103 - 2020Q4: -144.05%\n",
            "1103 - 2020Q3: -232.16%\n",
            "1103 - 2020Q2: -231.39%\n",
            "1103 - 2020Q1: -258.02%\n",
            "1103 - 2019Q4: -253.19%\n",
            "1103 - 2019Q3: -265.57%\n",
            "1103 - 2019Q2: -543.37%\n",
            "1103 - 2019Q1: -614.32%\n",
            "1234 - 2024Q3: 3.43%\n",
            "1234 - 2024Q2: -5.13%\n",
            "1234 - 2024Q1: -7.18%\n",
            "1234 - 2023Q4: -11.68%\n",
            "1234 - 2023Q3: -12.00%\n",
            "1234 - 2023Q2: -12.36%\n",
            "1234 - 2023Q1: -13.86%\n",
            "1234 - 2022Q4: -13.88%\n",
            "1234 - 2022Q3: -12.75%\n",
            "1234 - 2022Q2: -11.70%\n",
            "1234 - 2022Q1: -12.91%\n",
            "1234 - 2021Q4: -252.13%\n",
            "1234 - 2021Q3: -266.34%\n",
            "1234 - 2021Q2: -265.04%\n",
            "1234 - 2021Q1: -237.85%\n",
            "1234 - 2020Q4: -239.70%\n",
            "1234 - 2020Q3: -243.80%\n",
            "1234 - 2020Q2: -262.10%\n",
            "1234 - 2020Q1: -218.03%\n",
            "1234 - 2019Q4: -216.35%\n",
            "1234 - 2019Q3: -226.14%\n",
            "1234 - 2019Q2: -243.38%\n",
            "1234 - 2019Q1: -240.94%\n",
            "2514 - 2024Q3: 161.60%\n",
            "2514 - 2024Q2: 256.03%\n",
            "2514 - 2024Q1: 297.22%\n",
            "2514 - 2023Q4: 363.87%\n",
            "2514 - 2023Q3: 280.79%\n",
            "2514 - 2023Q2: 332.91%\n",
            "2514 - 2023Q1: 353.69%\n",
            "2514 - 2022Q4: 335.07%\n",
            "2514 - 2022Q3: 311.92%\n",
            "2514 - 2022Q2: 282.39%\n",
            "2514 - 2022Q1: 273.05%\n",
            "2514 - 2021Q4: 243.94%\n",
            "2514 - 2021Q3: 97.94%\n",
            "2514 - 2021Q2: 81.11%\n",
            "2514 - 2021Q1: 90.84%\n",
            "2514 - 2020Q4: 97.64%\n",
            "2514 - 2020Q3: -385.31%\n",
            "2514 - 2020Q2: -380.40%\n",
            "2514 - 2020Q1: -472.97%\n",
            "2514 - 2019Q4: -77.21%\n",
            "2514 - 2019Q3: -14,475.09%\n",
            "2514 - 2019Q2: -13,225.82%\n",
            "2514 - 2019Q1: -17,876.38%\n",
            "1110 - 2024Q3: 120.34%\n",
            "1110 - 2024Q2: 154.27%\n",
            "1110 - 2024Q1: 156.80%\n",
            "1110 - 2023Q4: 182.96%\n",
            "1110 - 2023Q3: 150.19%\n",
            "1110 - 2023Q2: 169.21%\n",
            "1110 - 2023Q1: 513.41%\n",
            "1110 - 2022Q4: 460.46%\n",
            "1110 - 2022Q3: 594.97%\n",
            "1110 - 2022Q2: 627.54%\n",
            "1110 - 2022Q1: 365.32%\n",
            "1110 - 2021Q4: -2,130.39%\n",
            "1110 - 2021Q3: -1,918.20%\n",
            "1110 - 2021Q2: -2,486.73%\n",
            "1110 - 2021Q1: -3,897.41%\n",
            "1110 - 2020Q4: -3,595.43%\n",
            "1110 - 2020Q3: -4,524.12%\n",
            "1110 - 2020Q2: -5,909.43%\n",
            "1110 - 2020Q1: -5,519.43%\n",
            "1110 - 2019Q4: -1,782.53%\n",
            "1110 - 2019Q3: -1,643.30%\n",
            "1110 - 2019Q2: -1,532.32%\n",
            "1110 - 2019Q1: -1,448.42%\n",
            "8926 - 2024Q3: 65.16%\n",
            "8926 - 2024Q2: 69.42%\n",
            "8926 - 2024Q1: 95.70%\n",
            "8926 - 2023Q4: 99.12%\n",
            "8926 - 2023Q3: 85.50%\n",
            "8926 - 2023Q2: 86.31%\n",
            "8926 - 2023Q1: 74.50%\n",
            "8926 - 2022Q4: 71.24%\n",
            "8926 - 2022Q3: 68.19%\n",
            "8926 - 2022Q2: 70.81%\n",
            "8926 - 2022Q1: 58.59%\n",
            "8926 - 2021Q4: 52.93%\n",
            "8926 - 2021Q3: 52.20%\n",
            "8926 - 2021Q2: 72.02%\n",
            "8926 - 2021Q1: 57.61%\n",
            "8926 - 2020Q4: 54.20%\n",
            "8926 - 2020Q3: 54.24%\n",
            "8926 - 2020Q2: 54.46%\n",
            "8926 - 2020Q1: 30.99%\n",
            "8926 - 2019Q4: 26.40%\n",
            "8926 - 2019Q3: 29.47%\n",
            "8926 - 2019Q2: 25.76%\n",
            "8926 - 2019Q1: 3.68%\n",
            "2015 - 2024Q3: 4.71%\n",
            "2015 - 2024Q2: 2.44%\n",
            "2015 - 2024Q1: 1.70%\n",
            "2015 - 2023Q4: -0.82%\n",
            "2015 - 2023Q3: -2.19%\n",
            "2015 - 2023Q2: -0.60%\n",
            "2015 - 2023Q1: -8.30%\n",
            "2015 - 2022Q4: -6.22%\n",
            "2015 - 2022Q3: -8.12%\n",
            "2015 - 2022Q2: -6.71%\n",
            "2015 - 2022Q1: -10.28%\n",
            "2015 - 2021Q4: -9.03%\n",
            "2015 - 2021Q3: -1.07%\n",
            "2015 - 2021Q2: 2.39%\n",
            "2015 - 2021Q1: 14.15%\n",
            "2015 - 2020Q4: 15.08%\n",
            "2015 - 2020Q3: 11.03%\n",
            "2015 - 2020Q2: 10.60%\n",
            "2015 - 2020Q1: 8.21%\n",
            "2015 - 2019Q4: 9.60%\n",
            "2015 - 2019Q3: 16.09%\n",
            "2015 - 2019Q2: 13.59%\n",
            "2015 - 2019Q1: 19.45%\n",
            "1504 - 2024Q3: 15.67%\n",
            "1504 - 2024Q2: 16.16%\n",
            "1504 - 2024Q1: 19.42%\n",
            "1504 - 2023Q4: 22.25%\n",
            "1504 - 2023Q3: 23.58%\n",
            "1504 - 2023Q2: 24.76%\n",
            "1504 - 2023Q1: 25.09%\n",
            "1504 - 2022Q4: 15.48%\n",
            "1504 - 2022Q3: 16.35%\n",
            "1504 - 2022Q2: -10.90%\n",
            "1504 - 2022Q1: -7.53%\n",
            "1504 - 2021Q4: -89.15%\n",
            "1504 - 2021Q3: -88.83%\n",
            "1504 - 2021Q2: -98.91%\n",
            "1504 - 2021Q1: -92.99%\n",
            "1504 - 2020Q4: -96.62%\n",
            "1504 - 2020Q3: -98.89%\n",
            "1504 - 2020Q2: -93.88%\n",
            "1504 - 2020Q1: -102.48%\n",
            "1504 - 2019Q4: -75.60%\n",
            "1504 - 2019Q3: -68.68%\n",
            "1504 - 2019Q2: -80.18%\n",
            "1504 - 2019Q1: -81.75%\n",
            "2408 - 2024Q3: 12.95%\n",
            "2408 - 2024Q2: -1.74%\n",
            "2408 - 2024Q1: -6.72%\n",
            "2408 - 2023Q4: -9.52%\n",
            "2408 - 2023Q3: -9.32%\n",
            "2408 - 2023Q2: -6.45%\n",
            "2408 - 2023Q1: -10.86%\n",
            "2408 - 2022Q4: -14.70%\n",
            "2408 - 2022Q3: -12.83%\n",
            "2408 - 2022Q2: -4.01%\n",
            "2408 - 2022Q1: -6.54%\n",
            "2408 - 2021Q4: -5.89%\n",
            "2408 - 2021Q3: -31.45%\n",
            "2408 - 2021Q2: -45.78%\n",
            "2408 - 2021Q1: -41.10%\n",
            "2408 - 2020Q4: -24.68%\n",
            "2408 - 2020Q3: -1.24%\n",
            "2408 - 2020Q2: 3.31%\n",
            "2408 - 2020Q1: 5.18%\n",
            "2408 - 2019Q4: 6.77%\n",
            "2408 - 2019Q3: 7.33%\n",
            "2408 - 2019Q2: 9.71%\n",
            "2408 - 2019Q1: 12.58%\n",
            "6505 - 2024Q3: -3.68%\n",
            "6505 - 2024Q2: -1.78%\n",
            "6505 - 2024Q1: -6.09%\n",
            "6505 - 2023Q4: -9.58%\n",
            "6505 - 2023Q3: -10.38%\n",
            "6505 - 2023Q2: -11.09%\n",
            "6505 - 2023Q1: -10.22%\n",
            "6505 - 2022Q4: -11.09%\n",
            "6505 - 2022Q3: -5.78%\n",
            "6505 - 2022Q2: -2.02%\n",
            "6505 - 2022Q1: -2.40%\n",
            "6505 - 2021Q4: -14.08%\n",
            "6505 - 2021Q3: -13.27%\n",
            "6505 - 2021Q2: -11.99%\n",
            "6505 - 2021Q1: -12.56%\n",
            "6505 - 2020Q4: -15.66%\n",
            "6505 - 2020Q3: -15.31%\n",
            "6505 - 2020Q2: -17.59%\n",
            "6505 - 2020Q1: -16.71%\n",
            "6505 - 2019Q4: -16.77%\n",
            "6505 - 2019Q3: -18.40%\n",
            "6505 - 2019Q2: -20.69%\n",
            "6505 - 2019Q1: -22.48%\n",
            "2412 - 2024Q3: 3.91%\n",
            "2412 - 2024Q2: 4.57%\n",
            "2412 - 2024Q1: 5.85%\n",
            "2412 - 2023Q4: 6.76%\n",
            "2412 - 2023Q3: 6.53%\n",
            "2412 - 2023Q2: 5.78%\n",
            "2412 - 2023Q1: 6.46%\n",
            "2412 - 2022Q4: 5.10%\n",
            "2412 - 2022Q3: 3.49%\n",
            "2412 - 2022Q2: 3.40%\n",
            "2412 - 2022Q1: 4.65%\n",
            "2412 - 2021Q4: -5.43%\n",
            "2412 - 2021Q3: -4.46%\n",
            "2412 - 2021Q2: -5.42%\n",
            "2412 - 2021Q1: -9.46%\n",
            "2412 - 2020Q4: -12.19%\n",
            "2412 - 2020Q3: -9.40%\n",
            "2412 - 2020Q2: -11.40%\n",
            "2412 - 2020Q1: -14.46%\n",
            "2412 - 2019Q4: -15.36%\n",
            "2412 - 2019Q3: -17.28%\n",
            "2412 - 2019Q2: -18.04%\n",
            "2412 - 2019Q1: -19.98%\n",
            "2303 - 2024Q3: 66.95%\n",
            "2303 - 2024Q2: 69.73%\n",
            "2303 - 2024Q1: 63.59%\n",
            "2303 - 2023Q4: 53.60%\n",
            "2303 - 2023Q3: 44.49%\n",
            "2303 - 2023Q2: 35.38%\n",
            "2303 - 2023Q1: 30.70%\n",
            "2303 - 2022Q4: 16.49%\n",
            "2303 - 2022Q3: -1.01%\n",
            "2303 - 2022Q2: -20.50%\n",
            "2303 - 2022Q1: -27.92%\n",
            "2303 - 2021Q4: -53.40%\n",
            "2303 - 2021Q3: -79.71%\n",
            "2303 - 2021Q2: -118.08%\n",
            "2303 - 2021Q1: -148.88%\n",
            "2303 - 2020Q4: -190.03%\n",
            "2303 - 2020Q3: -253.79%\n",
            "2303 - 2020Q2: -318.59%\n",
            "2303 - 2020Q1: -295.88%\n",
            "2303 - 2019Q4: -257.39%\n",
            "2303 - 2019Q3: -233.48%\n",
            "2303 - 2019Q2: -132.23%\n",
            "2303 - 2019Q1: -66.72%\n"
          ]
        }
      ]
    },
    {
      "cell_type": "code",
      "source": [
        "import pandas as pd\n",
        "\n",
        "# 讀取 CSV 文件\n",
        "df4 = pd.read_csv('reinvestment_rate_codes.csv')\n",
        "\n",
        "# 去除逗號和百分比符號，並轉換為浮點數\n",
        "df4['盈餘再投資比'] = df4['盈餘再投資比'].str.replace(',', '').str.replace('%', '').astype(float)\n",
        "\n",
        "# 篩選出2019Q1至2023Q4之間的資料，並篩選盈餘再投資比 < 200%\n",
        "result_codes = df4[\n",
        "    (df4['年度/季別'].between('2019Q1', '2023Q4')) &\n",
        "    (df4['盈餘再投資比'] < 200)\n",
        "]['代碼']\n",
        "\n",
        "# 去除重複代碼並轉換為列表\n",
        "result_codes = result_codes.unique().tolist()\n",
        "\n",
        "# 輸出符合條件的代碼\n",
        "print(result_codes)\n"
      ],
      "metadata": {
        "colab": {
          "base_uri": "https://localhost:8080/"
        },
        "id": "zyCpLEXAHAJ0",
        "outputId": "a34c6852-7bc2-4763-fbf9-278cc7883ee6"
      },
      "execution_count": null,
      "outputs": [
        {
          "output_type": "stream",
          "name": "stdout",
          "text": [
            "[2441, 8464, 1301, 2454, 2330, 1308, 1440, 2340, 1319, 2344, 4904, 2474, 2605, 1326, 8110, 2354, 9908, 2104, 2107, 3532, 1103, 1234, 2514, 1110, 8926, 2015, 1504, 2408, 6505, 2412, 2303]\n"
          ]
        }
      ]
    }
  ]
}